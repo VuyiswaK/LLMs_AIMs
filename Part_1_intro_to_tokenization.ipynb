{
  "cells": [
    {
      "cell_type": "markdown",
      "metadata": {
        "id": "view-in-github",
        "colab_type": "text"
      },
      "source": [
        "<a href=\"https://colab.research.google.com/github/VuyiswaK/LLMs_AIMs/blob/main/Part_1_intro_to_tokenization.ipynb\" target=\"_parent\"><img src=\"https://colab.research.google.com/assets/colab-badge.svg\" alt=\"Open In Colab\"/></a>"
      ]
    },
    {
      "cell_type": "markdown",
      "source": [
        "# https://tinyurl.com/yw66n5fk"
      ],
      "metadata": {
        "id": "HPWoX_Tww49G"
      }
    },
    {
      "cell_type": "markdown",
      "metadata": {
        "id": "e3_5zVnkJaz_"
      },
      "source": [
        "# Understanding Tokenization in LLMs with JAX\n",
        "\n",
        "In this notebook, we'll explore the tokenization process for Large Language Models (LLMs) using JAX. Tokenization is the process of converting raw text into a format that can be processed by neural networks. This is a crucial preprocessing step for training and using LLMs."
      ]
    },
    {
      "cell_type": "markdown",
      "metadata": {
        "id": "gaSZwdosJa0B"
      },
      "source": [
        "# Introduction to Tokenization\n",
        "\n",
        "LLMs cannot process raw text directly because text is categorical data, incompatible with the mathematical operations used in neural networks. We need to convert text into continuous-valued vectors, which is where tokenization and embeddings come in.\n",
        "\n",
        "Let's start by importing the necessary libraries:"
      ]
    },
    {
      "cell_type": "code",
      "execution_count": null,
      "metadata": {
        "id": "omTCwtvdJa0B"
      },
      "outputs": [],
      "source": [
        "import jax\n",
        "import jax.numpy as jnp\n",
        "from jax import random\n",
        "import re\n",
        "import numpy as np\n",
        "from typing import Dict, List, Tuple, Optional\n",
        "import urllib.request"
      ]
    },
    {
      "cell_type": "markdown",
      "metadata": {
        "id": "f_j3GMZjJa0C"
      },
      "source": [
        "## Getting a Sample Text\n",
        "\n",
        "Let's download a small sample text for our tokenization experiments:"
      ]
    },
    {
      "cell_type": "code",
      "execution_count": null,
      "metadata": {
        "colab": {
          "base_uri": "https://localhost:8080/"
        },
        "id": "GlmLw1d_Ja0D",
        "outputId": "6a58df70-6599-497b-a98d-918df025fafb"
      },
      "outputs": [
        {
          "output_type": "stream",
          "name": "stdout",
          "text": [
            "Successfully downloaded to the-verdict.txt\n"
          ]
        }
      ],
      "source": [
        "def download_sample_text(url, file_path):\n",
        "    \"\"\"Download a text file from the given URL.\"\"\"\n",
        "\n",
        "    return file_path\n",
        "\n",
        "# Download a sample text (assuming the Verdict text is available)\n",
        "url = (\"https://raw.githubusercontent.com/rasbt/\"\n",
        "       \"LLMs-from-scratch/main/ch02/01_main-chapter-code/\"\n",
        "       \"the-verdict.txt\")\n",
        "file_path = \"the-verdict.txt\"\n",
        "\n",
        "urllib.request.urlretrieve(url, file_path)\n",
        "print(f\"Successfully downloaded to {file_path}\")"
      ]
    },
    {
      "cell_type": "code",
      "execution_count": null,
      "metadata": {
        "colab": {
          "base_uri": "https://localhost:8080/"
        },
        "id": "mwlfKIL-Ja0D",
        "outputId": "1f1bc127-e69a-4785-de1a-e1e2b2020ebd"
      },
      "outputs": [
        {
          "output_type": "stream",
          "name": "stdout",
          "text": [
            "Total number of characters: 20479\n",
            "First 100 characters:\n",
            "I HAD always thought Jack Gisburn rather a cheap genius--though a good fellow enough--so it was no g\n"
          ]
        }
      ],
      "source": [
        "def read_text_file(file_path):\n",
        "    \"\"\"Read text from a file.\"\"\"\n",
        "    with open(file_path, \"r\", encoding=\"utf-8\") as f:\n",
        "        raw_text = f.read()\n",
        "    return raw_text\n",
        "\n",
        "# Read the text file\n",
        "raw_text = read_text_file(file_path)\n",
        "print(f\"Total number of characters: {len(raw_text)}\")\n",
        "print(f\"First 100 characters:\\n{raw_text[:100]}\")"
      ]
    },
    {
      "cell_type": "markdown",
      "metadata": {
        "id": "9y_fU4SuJa0D"
      },
      "source": [
        "## Simple Tokenization\n",
        "\n",
        "In the following section, we are going to implement a simple text tokenization function. Tokenization is the process of breaking text into smaller units (tokens) for natural language processing tasks. Our implementation will use regular expressions to split text at punctuation marks, spaces, and dashes, creating a list of meaningful tokens."
      ]
    },
    {
      "cell_type": "markdown",
      "source": [
        "### 1. Splitting the text\n",
        "\n",
        "In the first step, we will take a text string as input and returns a list of tokens. We'll use a regular expression pattern to identify splitting points and then clean the resulting list to remove empty entries."
      ],
      "metadata": {
        "id": "HFt0g3D-vLkl"
      }
    },
    {
      "cell_type": "code",
      "execution_count": null,
      "metadata": {
        "colab": {
          "base_uri": "https://localhost:8080/"
        },
        "id": "4w5Hevs_Ja0E",
        "outputId": "68beb121-0009-4f64-8764-b64114984300"
      },
      "outputs": [
        {
          "output_type": "stream",
          "name": "stdout",
          "text": [
            "Tokenized text: ['Hello', ',', 'world', '.', 'Is', 'this', '--', 'a', 'test', '?']\n"
          ]
        }
      ],
      "source": [
        "def tokenize_text(text):\n",
        "    \"\"\"Split text into tokens using regular expressions.\"\"\"\n",
        "    tokens = re.split(r'([,.:;?_!\"()\\'\\']|--|\\s)', text)\n",
        "    tokens = [item.strip() for item in tokens if item.strip()]\n",
        "    return tokens\n",
        "\n",
        "# Tokenize a simple example\n",
        "simple_text = \"Hello, world. Is this-- a test?\"\n",
        "tokens = tokenize_text(simple_text)\n",
        "print(f\"Tokenized text: {tokens}\")"
      ]
    },
    {
      "cell_type": "code",
      "execution_count": null,
      "metadata": {
        "colab": {
          "base_uri": "https://localhost:8080/"
        },
        "id": "QOdptU4qJa0E",
        "outputId": "f51b65a4-270c-4b10-bb2b-b460469d5666"
      },
      "outputs": [
        {
          "output_type": "stream",
          "name": "stdout",
          "text": [
            "Number of tokens in sample: 110\n",
            "First 30 tokens: ['I', 'HAD', 'always', 'thought', 'Jack', 'Gisburn', 'rather', 'a', 'cheap', 'genius', '--', 'though', 'a', 'good', 'fellow', 'enough', '--', 'so', 'it', 'was', 'no', 'great', 'surprise', 'to', 'me', 'to', 'hear', 'that', ',', 'in']\n"
          ]
        }
      ],
      "source": [
        "# Tokenize our sample text\n",
        "sample_tokens = tokenize_text(raw_text[:500])  # First 500 chars to keep output manageable\n",
        "print(f\"Number of tokens in sample: {len(sample_tokens)}\")\n",
        "print(f\"First 30 tokens: {sample_tokens[:30]}\")"
      ]
    },
    {
      "cell_type": "markdown",
      "metadata": {
        "id": "pCszFRtxJa0E"
      },
      "source": [
        "### 2. Building a Vocabulary\n",
        "\n",
        "In this step, we are going to implement a vocabulary builder function that converts our tokenized text into a format suitable for machine learning models. This process assigns a unique integer ID to each distinct token in our dataset, creating mappings that allow us to convert back and forth between tokens and their IDs."
      ]
    },
    {
      "cell_type": "code",
      "execution_count": null,
      "metadata": {
        "colab": {
          "base_uri": "https://localhost:8080/"
        },
        "id": "ffGB0F1uJa0E",
        "outputId": "d5a61885-a288-4edf-a444-f6c50903d6ec"
      },
      "outputs": [
        {
          "output_type": "stream",
          "name": "stdout",
          "text": [
            "Vocabulary size: 1130\n",
            "\n",
            "Sample of the vocabulary:\n",
            "'!' -> 0\n",
            "'\"' -> 1\n",
            "''' -> 2\n",
            "'(' -> 3\n",
            "')' -> 4\n",
            "',' -> 5\n",
            "'--' -> 6\n",
            "'.' -> 7\n",
            "':' -> 8\n",
            "';' -> 9\n"
          ]
        }
      ],
      "source": [
        "def build_vocabulary(tokens):\n",
        "    \"\"\"Create a vocabulary mapping tokens to integer IDs.\"\"\"\n",
        "    unique_tokens = sorted(set(tokens))\n",
        "    token_to_id = {token: idx for idx, token in enumerate(unique_tokens)}\n",
        "    id_to_token = {idx: token for token, idx in token_to_id.items()}\n",
        "    return token_to_id, id_to_token, len(unique_tokens)\n",
        "\n",
        "# Tokenize the entire text\n",
        "all_tokens = tokenize_text(raw_text)\n",
        "\n",
        "# Build vocabulary\n",
        "token_to_id, id_to_token, vocab_size = build_vocabulary(all_tokens)\n",
        "\n",
        "print(f\"Vocabulary size: {vocab_size}\")\n",
        "print(\"\\nSample of the vocabulary:\")\n",
        "for i, (token, idx) in enumerate(list(token_to_id.items())[:10]):\n",
        "    print(f\"'{token}' -> {idx}\")"
      ]
    },
    {
      "cell_type": "markdown",
      "metadata": {
        "id": "qZ2xbFd4Ja0E"
      },
      "source": [
        "### 3. Add special tokens to our vocabulary\n",
        "\n",
        "We then enhance our vocabulary by adding special tokens that serve specific purposes in language models: an end-of-text marker and an unknown token placeholder. These tokens help the model understand text boundaries and handle words it hasn't seen before."
      ]
    },
    {
      "cell_type": "code",
      "execution_count": null,
      "metadata": {
        "colab": {
          "base_uri": "https://localhost:8080/"
        },
        "id": "9KTYs7pGJa0E",
        "outputId": "3f19af6b-f4bc-438d-d361-38519d4933b5"
      },
      "outputs": [
        {
          "output_type": "stream",
          "name": "stdout",
          "text": [
            "Token IDs: [53, 44, 149, 1003, 57, 38, 818, 115, 256, 486, 6, 1002, 115, 500, 435, 392, 6, 908, 585, 1077]\n",
            "Reconstructed tokens: ['I', 'HAD', 'always', 'thought', 'Jack', 'Gisburn', 'rather', 'a', 'cheap', 'genius', '--', 'though', 'a', 'good', 'fellow', 'enough', '--', 'so', 'it', 'was']\n"
          ]
        }
      ],
      "source": [
        "def tokens_to_ids(tokens, token_to_id, unk_token=\"<|unk|>\"):\n",
        "    \"\"\"Convert tokens to token IDs, using unk_token for unknown tokens.\"\"\"\n",
        "    return [token_to_id.get(token, token_to_id[unk_token]) for token in tokens]\n",
        "\n",
        "def ids_to_tokens(ids, id_to_token):\n",
        "    \"\"\"Convert token IDs back to tokens.\"\"\"\n",
        "    return [id_to_token[idx] for idx in ids]\n",
        "\n",
        "# Add special tokens to our vocabulary\n",
        "special_tokens = [\"<|endoftext|>\", \"<|unk|>\"]\n",
        "for token in special_tokens:\n",
        "    if token not in token_to_id:\n",
        "        token_to_id[token] = len(token_to_id)\n",
        "        id_to_token[len(id_to_token)] = token\n",
        "\n",
        "# Convert sample tokens to IDs\n",
        "sample_token_ids = tokens_to_ids(sample_tokens, token_to_id)\n",
        "print(f\"Token IDs: {sample_token_ids[:20]}\")\n",
        "\n",
        "# Convert back to tokens\n",
        "reconstructed_tokens = ids_to_tokens(sample_token_ids[:20], id_to_token)\n",
        "print(f\"Reconstructed tokens: {reconstructed_tokens}\")"
      ]
    },
    {
      "cell_type": "code",
      "source": [
        "token_to_id"
      ],
      "metadata": {
        "colab": {
          "base_uri": "https://localhost:8080/"
        },
        "id": "vU0LtKQ5x_6r",
        "outputId": "c7977527-cb90-4f67-93f2-a9408c93de9a"
      },
      "execution_count": null,
      "outputs": [
        {
          "output_type": "execute_result",
          "data": {
            "text/plain": [
              "{'!': 0,\n",
              " '\"': 1,\n",
              " \"'\": 2,\n",
              " '(': 3,\n",
              " ')': 4,\n",
              " ',': 5,\n",
              " '--': 6,\n",
              " '.': 7,\n",
              " ':': 8,\n",
              " ';': 9,\n",
              " '?': 10,\n",
              " 'A': 11,\n",
              " 'Ah': 12,\n",
              " 'Among': 13,\n",
              " 'And': 14,\n",
              " 'Are': 15,\n",
              " 'Arrt': 16,\n",
              " 'As': 17,\n",
              " 'At': 18,\n",
              " 'Be': 19,\n",
              " 'Begin': 20,\n",
              " 'Burlington': 21,\n",
              " 'But': 22,\n",
              " 'By': 23,\n",
              " 'Carlo': 24,\n",
              " 'Chicago': 25,\n",
              " 'Claude': 26,\n",
              " 'Come': 27,\n",
              " 'Croft': 28,\n",
              " 'Destroyed': 29,\n",
              " 'Devonshire': 30,\n",
              " 'Don': 31,\n",
              " 'Dubarry': 32,\n",
              " 'Emperors': 33,\n",
              " 'Florence': 34,\n",
              " 'For': 35,\n",
              " 'Gallery': 36,\n",
              " 'Gideon': 37,\n",
              " 'Gisburn': 38,\n",
              " 'Gisburns': 39,\n",
              " 'Grafton': 40,\n",
              " 'Greek': 41,\n",
              " 'Grindle': 42,\n",
              " 'Grindles': 43,\n",
              " 'HAD': 44,\n",
              " 'Had': 45,\n",
              " 'Hang': 46,\n",
              " 'Has': 47,\n",
              " 'He': 48,\n",
              " 'Her': 49,\n",
              " 'Hermia': 50,\n",
              " 'His': 51,\n",
              " 'How': 52,\n",
              " 'I': 53,\n",
              " 'If': 54,\n",
              " 'In': 55,\n",
              " 'It': 56,\n",
              " 'Jack': 57,\n",
              " 'Jove': 58,\n",
              " 'Just': 59,\n",
              " 'Lord': 60,\n",
              " 'Made': 61,\n",
              " 'Miss': 62,\n",
              " 'Money': 63,\n",
              " 'Monte': 64,\n",
              " 'Moon-dancers': 65,\n",
              " 'Mr': 66,\n",
              " 'Mrs': 67,\n",
              " 'My': 68,\n",
              " 'Never': 69,\n",
              " 'No': 70,\n",
              " 'Now': 71,\n",
              " 'Nutley': 72,\n",
              " 'Of': 73,\n",
              " 'Oh': 74,\n",
              " 'On': 75,\n",
              " 'Once': 76,\n",
              " 'Only': 77,\n",
              " 'Or': 78,\n",
              " 'Perhaps': 79,\n",
              " 'Poor': 80,\n",
              " 'Professional': 81,\n",
              " 'Renaissance': 82,\n",
              " 'Rickham': 83,\n",
              " 'Riviera': 84,\n",
              " 'Rome': 85,\n",
              " 'Russian': 86,\n",
              " 'Sevres': 87,\n",
              " 'She': 88,\n",
              " 'Stroud': 89,\n",
              " 'Strouds': 90,\n",
              " 'Suddenly': 91,\n",
              " 'That': 92,\n",
              " 'The': 93,\n",
              " 'Then': 94,\n",
              " 'There': 95,\n",
              " 'They': 96,\n",
              " 'This': 97,\n",
              " 'Those': 98,\n",
              " 'Though': 99,\n",
              " 'Thwing': 100,\n",
              " 'Thwings': 101,\n",
              " 'To': 102,\n",
              " 'Usually': 103,\n",
              " 'Venetian': 104,\n",
              " 'Victor': 105,\n",
              " 'Was': 106,\n",
              " 'We': 107,\n",
              " 'Well': 108,\n",
              " 'What': 109,\n",
              " 'When': 110,\n",
              " 'Why': 111,\n",
              " 'Yes': 112,\n",
              " 'You': 113,\n",
              " '_': 114,\n",
              " 'a': 115,\n",
              " 'abdication': 116,\n",
              " 'able': 117,\n",
              " 'about': 118,\n",
              " 'above': 119,\n",
              " 'abruptly': 120,\n",
              " 'absolute': 121,\n",
              " 'absorbed': 122,\n",
              " 'absurdity': 123,\n",
              " 'academic': 124,\n",
              " 'accuse': 125,\n",
              " 'accustomed': 126,\n",
              " 'across': 127,\n",
              " 'activity': 128,\n",
              " 'add': 129,\n",
              " 'added': 130,\n",
              " 'admirers': 131,\n",
              " 'adopted': 132,\n",
              " 'adulation': 133,\n",
              " 'advance': 134,\n",
              " 'aesthetic': 135,\n",
              " 'affect': 136,\n",
              " 'afraid': 137,\n",
              " 'after': 138,\n",
              " 'afterward': 139,\n",
              " 'again': 140,\n",
              " 'ago': 141,\n",
              " 'ah': 142,\n",
              " 'air': 143,\n",
              " 'alive': 144,\n",
              " 'all': 145,\n",
              " 'almost': 146,\n",
              " 'alone': 147,\n",
              " 'along': 148,\n",
              " 'always': 149,\n",
              " 'am': 150,\n",
              " 'amazement': 151,\n",
              " 'amid': 152,\n",
              " 'among': 153,\n",
              " 'amplest': 154,\n",
              " 'amusing': 155,\n",
              " 'an': 156,\n",
              " 'and': 157,\n",
              " 'another': 158,\n",
              " 'answer': 159,\n",
              " 'answered': 160,\n",
              " 'any': 161,\n",
              " 'anything': 162,\n",
              " 'anywhere': 163,\n",
              " 'apparent': 164,\n",
              " 'apparently': 165,\n",
              " 'appearance': 166,\n",
              " 'appeared': 167,\n",
              " 'appointed': 168,\n",
              " 'are': 169,\n",
              " 'arm': 170,\n",
              " 'arm-chair': 171,\n",
              " 'arm-chairs': 172,\n",
              " 'arms': 173,\n",
              " 'art': 174,\n",
              " 'articles': 175,\n",
              " 'artist': 176,\n",
              " 'as': 177,\n",
              " 'aside': 178,\n",
              " 'asked': 179,\n",
              " 'at': 180,\n",
              " 'atmosphere': 181,\n",
              " 'atom': 182,\n",
              " 'attack': 183,\n",
              " 'attention': 184,\n",
              " 'attitude': 185,\n",
              " 'audacities': 186,\n",
              " 'away': 187,\n",
              " 'awful': 188,\n",
              " 'axioms': 189,\n",
              " 'azaleas': 190,\n",
              " 'back': 191,\n",
              " 'background': 192,\n",
              " 'balance': 193,\n",
              " 'balancing': 194,\n",
              " 'balustraded': 195,\n",
              " 'basking': 196,\n",
              " 'bath-rooms': 197,\n",
              " 'be': 198,\n",
              " 'beaming': 199,\n",
              " 'bean-stalk': 200,\n",
              " 'bear': 201,\n",
              " 'beard': 202,\n",
              " 'beauty': 203,\n",
              " 'became': 204,\n",
              " 'because': 205,\n",
              " 'becoming': 206,\n",
              " 'bed': 207,\n",
              " 'been': 208,\n",
              " 'before': 209,\n",
              " 'began': 210,\n",
              " 'begun': 211,\n",
              " 'behind': 212,\n",
              " 'being': 213,\n",
              " 'believed': 214,\n",
              " 'beneath': 215,\n",
              " 'bespoke': 216,\n",
              " 'better': 217,\n",
              " 'between': 218,\n",
              " 'big': 219,\n",
              " 'bits': 220,\n",
              " 'bitterness': 221,\n",
              " 'blocked': 222,\n",
              " 'born': 223,\n",
              " 'borne': 224,\n",
              " 'boudoir': 225,\n",
              " 'bravura': 226,\n",
              " 'break': 227,\n",
              " 'breaking': 228,\n",
              " 'breathing': 229,\n",
              " 'bric-a-brac': 230,\n",
              " 'briefly': 231,\n",
              " 'brings': 232,\n",
              " 'bronzes': 233,\n",
              " 'brought': 234,\n",
              " 'brown': 235,\n",
              " 'brush': 236,\n",
              " 'bull': 237,\n",
              " 'business': 238,\n",
              " 'but': 239,\n",
              " 'buying': 240,\n",
              " 'by': 241,\n",
              " 'called': 242,\n",
              " 'came': 243,\n",
              " 'can': 244,\n",
              " 'canvas': 245,\n",
              " 'canvases': 246,\n",
              " 'cards': 247,\n",
              " 'care': 248,\n",
              " 'career': 249,\n",
              " 'caught': 250,\n",
              " 'central': 251,\n",
              " 'chair': 252,\n",
              " 'chap': 253,\n",
              " 'characteristic': 254,\n",
              " 'charming': 255,\n",
              " 'cheap': 256,\n",
              " 'check': 257,\n",
              " 'cheeks': 258,\n",
              " 'chest': 259,\n",
              " 'chimney-piece': 260,\n",
              " 'chucked': 261,\n",
              " 'cigar': 262,\n",
              " 'cigarette': 263,\n",
              " 'cigars': 264,\n",
              " 'circulation': 265,\n",
              " 'circumstance': 266,\n",
              " 'circus-clown': 267,\n",
              " 'claimed': 268,\n",
              " 'clasping': 269,\n",
              " 'clear': 270,\n",
              " 'cleverer': 271,\n",
              " 'close': 272,\n",
              " 'clue': 273,\n",
              " 'coat': 274,\n",
              " 'collapsed': 275,\n",
              " 'colour': 276,\n",
              " 'come': 277,\n",
              " 'comfortable': 278,\n",
              " 'coming': 279,\n",
              " 'companion': 280,\n",
              " 'compared': 281,\n",
              " 'complex': 282,\n",
              " 'confident': 283,\n",
              " 'congesting': 284,\n",
              " 'conjugal': 285,\n",
              " 'constraint': 286,\n",
              " 'consummate': 287,\n",
              " 'contended': 288,\n",
              " 'continued': 289,\n",
              " 'corner': 290,\n",
              " 'corrected': 291,\n",
              " 'could': 292,\n",
              " 'couldn': 293,\n",
              " 'count': 294,\n",
              " 'countenance': 295,\n",
              " 'couple': 296,\n",
              " 'course': 297,\n",
              " 'covered': 298,\n",
              " 'craft': 299,\n",
              " 'cried': 300,\n",
              " 'crossed': 301,\n",
              " 'crowned': 302,\n",
              " 'crumbled': 303,\n",
              " 'cry': 304,\n",
              " 'cured': 305,\n",
              " 'curiosity': 306,\n",
              " 'curious': 307,\n",
              " 'current': 308,\n",
              " 'curtains': 309,\n",
              " 'd': 310,\n",
              " 'dabble': 311,\n",
              " 'damask': 312,\n",
              " 'dark': 313,\n",
              " 'dashed': 314,\n",
              " 'day': 315,\n",
              " 'days': 316,\n",
              " 'dead': 317,\n",
              " 'deadening': 318,\n",
              " 'dear': 319,\n",
              " 'deep': 320,\n",
              " 'deerhound': 321,\n",
              " 'degree': 322,\n",
              " 'delicate': 323,\n",
              " 'demand': 324,\n",
              " 'denied': 325,\n",
              " 'deploring': 326,\n",
              " 'deprecating': 327,\n",
              " 'deprecatingly': 328,\n",
              " 'desire': 329,\n",
              " 'destroyed': 330,\n",
              " 'destruction': 331,\n",
              " 'desultory': 332,\n",
              " 'detail': 333,\n",
              " 'diagnosis': 334,\n",
              " 'did': 335,\n",
              " 'didn': 336,\n",
              " 'died': 337,\n",
              " 'dim': 338,\n",
              " 'dimmest': 339,\n",
              " 'dingy': 340,\n",
              " 'dining-room': 341,\n",
              " 'disarming': 342,\n",
              " 'discovery': 343,\n",
              " 'discrimination': 344,\n",
              " 'discussion': 345,\n",
              " 'disdain': 346,\n",
              " 'disdained': 347,\n",
              " 'disease': 348,\n",
              " 'disguised': 349,\n",
              " 'display': 350,\n",
              " 'dissatisfied': 351,\n",
              " 'distinguished': 352,\n",
              " 'distract': 353,\n",
              " 'divert': 354,\n",
              " 'do': 355,\n",
              " 'doesn': 356,\n",
              " 'doing': 357,\n",
              " 'domestic': 358,\n",
              " 'don': 359,\n",
              " 'done': 360,\n",
              " 'donkey': 361,\n",
              " 'down': 362,\n",
              " 'dozen': 363,\n",
              " 'dragged': 364,\n",
              " 'drawing-room': 365,\n",
              " 'drawing-rooms': 366,\n",
              " 'drawn': 367,\n",
              " 'dress-closets': 368,\n",
              " 'drew': 369,\n",
              " 'dropped': 370,\n",
              " 'each': 371,\n",
              " 'earth': 372,\n",
              " 'ease': 373,\n",
              " 'easel': 374,\n",
              " 'easy': 375,\n",
              " 'echoed': 376,\n",
              " 'economy': 377,\n",
              " 'effect': 378,\n",
              " 'effects': 379,\n",
              " 'efforts': 380,\n",
              " 'egregious': 381,\n",
              " 'eighteenth-century': 382,\n",
              " 'elbow': 383,\n",
              " 'elegant': 384,\n",
              " 'else': 385,\n",
              " 'embarrassed': 386,\n",
              " 'enabled': 387,\n",
              " 'end': 388,\n",
              " 'endless': 389,\n",
              " 'enjoy': 390,\n",
              " 'enlightenment': 391,\n",
              " 'enough': 392,\n",
              " 'ensuing': 393,\n",
              " 'equally': 394,\n",
              " 'equanimity': 395,\n",
              " 'escape': 396,\n",
              " 'established': 397,\n",
              " 'etching': 398,\n",
              " 'even': 399,\n",
              " 'event': 400,\n",
              " 'ever': 401,\n",
              " 'everlasting': 402,\n",
              " 'every': 403,\n",
              " 'exasperated': 404,\n",
              " 'except': 405,\n",
              " 'excuse': 406,\n",
              " 'excusing': 407,\n",
              " 'existed': 408,\n",
              " 'expected': 409,\n",
              " 'exquisite': 410,\n",
              " 'exquisitely': 411,\n",
              " 'extenuation': 412,\n",
              " 'exterminating': 413,\n",
              " 'extracting': 414,\n",
              " 'eye': 415,\n",
              " 'eyebrows': 416,\n",
              " 'eyes': 417,\n",
              " 'face': 418,\n",
              " 'faces': 419,\n",
              " 'fact': 420,\n",
              " 'faded': 421,\n",
              " 'failed': 422,\n",
              " 'failure': 423,\n",
              " 'fair': 424,\n",
              " 'faith': 425,\n",
              " 'false': 426,\n",
              " 'familiar': 427,\n",
              " 'famille-verte': 428,\n",
              " 'fancy': 429,\n",
              " 'fashionable': 430,\n",
              " 'fate': 431,\n",
              " 'feather': 432,\n",
              " 'feet': 433,\n",
              " 'fell': 434,\n",
              " 'fellow': 435,\n",
              " 'felt': 436,\n",
              " 'few': 437,\n",
              " 'fewer': 438,\n",
              " 'finality': 439,\n",
              " 'find': 440,\n",
              " 'fingers': 441,\n",
              " 'first': 442,\n",
              " 'fit': 443,\n",
              " 'fitting': 444,\n",
              " 'five': 445,\n",
              " 'flash': 446,\n",
              " 'flashed': 447,\n",
              " 'florid': 448,\n",
              " 'flowers': 449,\n",
              " 'fluently': 450,\n",
              " 'flung': 451,\n",
              " 'follow': 452,\n",
              " 'followed': 453,\n",
              " 'fond': 454,\n",
              " 'footstep': 455,\n",
              " 'for': 456,\n",
              " 'forced': 457,\n",
              " 'forcing': 458,\n",
              " 'forehead': 459,\n",
              " 'foreign': 460,\n",
              " 'foreseen': 461,\n",
              " 'forgive': 462,\n",
              " 'forgotten': 463,\n",
              " 'form': 464,\n",
              " 'formed': 465,\n",
              " 'forming': 466,\n",
              " 'forward': 467,\n",
              " 'fostered': 468,\n",
              " 'found': 469,\n",
              " 'foundations': 470,\n",
              " 'fragment': 471,\n",
              " 'fragments': 472,\n",
              " 'frame': 473,\n",
              " 'frames': 474,\n",
              " 'frequently': 475,\n",
              " 'friend': 476,\n",
              " 'from': 477,\n",
              " 'full': 478,\n",
              " 'fullest': 479,\n",
              " 'furiously': 480,\n",
              " 'furrowed': 481,\n",
              " 'garlanded': 482,\n",
              " 'garlands': 483,\n",
              " 'gave': 484,\n",
              " 'genial': 485,\n",
              " 'genius': 486,\n",
              " 'gesture': 487,\n",
              " 'get': 488,\n",
              " 'getting': 489,\n",
              " 'give': 490,\n",
              " 'given': 491,\n",
              " 'glad': 492,\n",
              " 'glanced': 493,\n",
              " 'glimpse': 494,\n",
              " 'gloried': 495,\n",
              " 'glory': 496,\n",
              " 'go': 497,\n",
              " 'going': 498,\n",
              " 'gone': 499,\n",
              " 'good': 500,\n",
              " 'good-breeding': 501,\n",
              " 'good-humoured': 502,\n",
              " 'got': 503,\n",
              " 'grace': 504,\n",
              " 'gradually': 505,\n",
              " 'gray': 506,\n",
              " 'grayish': 507,\n",
              " 'great': 508,\n",
              " 'greatest': 509,\n",
              " 'greatness': 510,\n",
              " 'grew': 511,\n",
              " 'groping': 512,\n",
              " 'growing': 513,\n",
              " 'had': 514,\n",
              " 'hadn': 515,\n",
              " 'hair': 516,\n",
              " 'half': 517,\n",
              " 'half-light': 518,\n",
              " 'half-mechanically': 519,\n",
              " 'hall': 520,\n",
              " 'hand': 521,\n",
              " 'hands': 522,\n",
              " 'handsome': 523,\n",
              " 'hanging': 524,\n",
              " 'happen': 525,\n",
              " 'happened': 526,\n",
              " 'hard': 527,\n",
              " 'hardly': 528,\n",
              " 'has': 529,\n",
              " 'have': 530,\n",
              " 'haven': 531,\n",
              " 'having': 532,\n",
              " 'he': 533,\n",
              " 'head': 534,\n",
              " 'hear': 535,\n",
              " 'heard': 536,\n",
              " 'heart': 537,\n",
              " 'height': 538,\n",
              " 'her': 539,\n",
              " 'here': 540,\n",
              " 'hermit': 541,\n",
              " 'herself': 542,\n",
              " 'hesitations': 543,\n",
              " 'hide': 544,\n",
              " 'high': 545,\n",
              " 'him': 546,\n",
              " 'himself': 547,\n",
              " 'hint': 548,\n",
              " 'his': 549,\n",
              " 'history': 550,\n",
              " 'holding': 551,\n",
              " 'home': 552,\n",
              " 'honour': 553,\n",
              " 'hooded': 554,\n",
              " 'hostess': 555,\n",
              " 'hot-house': 556,\n",
              " 'hour': 557,\n",
              " 'hours': 558,\n",
              " 'house': 559,\n",
              " 'how': 560,\n",
              " 'hung': 561,\n",
              " 'husband': 562,\n",
              " 'idea': 563,\n",
              " 'idle': 564,\n",
              " 'idling': 565,\n",
              " 'if': 566,\n",
              " 'immediately': 567,\n",
              " 'in': 568,\n",
              " 'incense': 569,\n",
              " 'indifferent': 570,\n",
              " 'inevitable': 571,\n",
              " 'inevitably': 572,\n",
              " 'inflexible': 573,\n",
              " 'insensible': 574,\n",
              " 'insignificant': 575,\n",
              " 'instinctively': 576,\n",
              " 'instructive': 577,\n",
              " 'interesting': 578,\n",
              " 'into': 579,\n",
              " 'ironic': 580,\n",
              " 'irony': 581,\n",
              " 'irrelevance': 582,\n",
              " 'irrevocable': 583,\n",
              " 'is': 584,\n",
              " 'it': 585,\n",
              " 'its': 586,\n",
              " 'itself': 587,\n",
              " 'jardiniere': 588,\n",
              " 'jealousy': 589,\n",
              " 'just': 590,\n",
              " 'keep': 591,\n",
              " 'kept': 592,\n",
              " 'kind': 593,\n",
              " 'knees': 594,\n",
              " 'knew': 595,\n",
              " 'know': 596,\n",
              " 'known': 597,\n",
              " 'laid': 598,\n",
              " 'lair': 599,\n",
              " 'landing': 600,\n",
              " 'language': 601,\n",
              " 'last': 602,\n",
              " 'late': 603,\n",
              " 'later': 604,\n",
              " 'latter': 605,\n",
              " 'laugh': 606,\n",
              " 'laughed': 607,\n",
              " 'lay': 608,\n",
              " 'leading': 609,\n",
              " 'lean': 610,\n",
              " 'learned': 611,\n",
              " 'least': 612,\n",
              " 'leathery': 613,\n",
              " 'leave': 614,\n",
              " 'led': 615,\n",
              " 'left': 616,\n",
              " 'leisure': 617,\n",
              " 'lends': 618,\n",
              " 'lent': 619,\n",
              " 'let': 620,\n",
              " 'lies': 621,\n",
              " 'life': 622,\n",
              " 'life-likeness': 623,\n",
              " 'lift': 624,\n",
              " 'lifted': 625,\n",
              " 'light': 626,\n",
              " 'lightly': 627,\n",
              " 'like': 628,\n",
              " 'liked': 629,\n",
              " 'line': 630,\n",
              " 'lines': 631,\n",
              " 'lingered': 632,\n",
              " 'lips': 633,\n",
              " 'lit': 634,\n",
              " 'little': 635,\n",
              " 'live': 636,\n",
              " 'll': 637,\n",
              " 'loathing': 638,\n",
              " 'long': 639,\n",
              " 'longed': 640,\n",
              " 'longer': 641,\n",
              " 'look': 642,\n",
              " 'looked': 643,\n",
              " 'looking': 644,\n",
              " 'lose': 645,\n",
              " 'loss': 646,\n",
              " 'lounging': 647,\n",
              " 'lovely': 648,\n",
              " 'lucky': 649,\n",
              " 'lump': 650,\n",
              " 'luncheon-table': 651,\n",
              " 'luxury': 652,\n",
              " 'lying': 653,\n",
              " 'made': 654,\n",
              " 'make': 655,\n",
              " 'man': 656,\n",
              " 'manage': 657,\n",
              " 'managed': 658,\n",
              " 'mantel-piece': 659,\n",
              " 'marble': 660,\n",
              " 'married': 661,\n",
              " 'may': 662,\n",
              " 'me': 663,\n",
              " 'meant': 664,\n",
              " 'mediocrity': 665,\n",
              " 'medium': 666,\n",
              " 'mentioned': 667,\n",
              " 'mere': 668,\n",
              " 'merely': 669,\n",
              " 'met': 670,\n",
              " 'might': 671,\n",
              " 'mighty': 672,\n",
              " 'millionaire': 673,\n",
              " 'mine': 674,\n",
              " 'minute': 675,\n",
              " 'minutes': 676,\n",
              " 'mirrors': 677,\n",
              " 'modest': 678,\n",
              " 'modesty': 679,\n",
              " 'moment': 680,\n",
              " 'money': 681,\n",
              " 'monumental': 682,\n",
              " 'mood': 683,\n",
              " 'morbidly': 684,\n",
              " 'more': 685,\n",
              " 'most': 686,\n",
              " 'mourn': 687,\n",
              " 'mourned': 688,\n",
              " 'moustache': 689,\n",
              " 'moved': 690,\n",
              " 'much': 691,\n",
              " 'muddling': 692,\n",
              " 'multiplied': 693,\n",
              " 'murmur': 694,\n",
              " 'muscles': 695,\n",
              " 'must': 696,\n",
              " 'my': 697,\n",
              " 'myself': 698,\n",
              " 'mysterious': 699,\n",
              " 'naive': 700,\n",
              " 'near': 701,\n",
              " 'nearly': 702,\n",
              " 'negatived': 703,\n",
              " 'nervous': 704,\n",
              " 'nervousness': 705,\n",
              " 'neutral': 706,\n",
              " 'never': 707,\n",
              " 'next': 708,\n",
              " 'no': 709,\n",
              " 'none': 710,\n",
              " 'not': 711,\n",
              " 'note': 712,\n",
              " 'nothing': 713,\n",
              " 'now': 714,\n",
              " 'nymphs': 715,\n",
              " 'oak': 716,\n",
              " 'obituary': 717,\n",
              " 'object': 718,\n",
              " 'objects': 719,\n",
              " 'occurred': 720,\n",
              " 'oddly': 721,\n",
              " 'of': 722,\n",
              " 'off': 723,\n",
              " 'often': 724,\n",
              " 'oh': 725,\n",
              " 'old': 726,\n",
              " 'on': 727,\n",
              " 'once': 728,\n",
              " 'one': 729,\n",
              " 'ones': 730,\n",
              " 'only': 731,\n",
              " 'onto': 732,\n",
              " 'open': 733,\n",
              " 'or': 734,\n",
              " 'other': 735,\n",
              " 'our': 736,\n",
              " 'ourselves': 737,\n",
              " 'out': 738,\n",
              " 'outline': 739,\n",
              " 'oval': 740,\n",
              " 'over': 741,\n",
              " 'own': 742,\n",
              " 'packed': 743,\n",
              " 'paid': 744,\n",
              " 'paint': 745,\n",
              " 'painted': 746,\n",
              " 'painter': 747,\n",
              " 'painting': 748,\n",
              " 'pale': 749,\n",
              " 'paled': 750,\n",
              " 'palm-trees': 751,\n",
              " 'panel': 752,\n",
              " 'panelling': 753,\n",
              " 'pardonable': 754,\n",
              " 'pardoned': 755,\n",
              " 'part': 756,\n",
              " 'passages': 757,\n",
              " 'passing': 758,\n",
              " 'past': 759,\n",
              " 'pastels': 760,\n",
              " 'pathos': 761,\n",
              " 'patient': 762,\n",
              " 'people': 763,\n",
              " 'perceptible': 764,\n",
              " 'perfect': 765,\n",
              " 'persistence': 766,\n",
              " 'persuasively': 767,\n",
              " 'phrase': 768,\n",
              " 'picture': 769,\n",
              " 'pictures': 770,\n",
              " 'pines': 771,\n",
              " 'pink': 772,\n",
              " 'place': 773,\n",
              " 'placed': 774,\n",
              " 'plain': 775,\n",
              " 'platitudes': 776,\n",
              " 'pleased': 777,\n",
              " 'pockets': 778,\n",
              " 'point': 779,\n",
              " 'poised': 780,\n",
              " 'poor': 781,\n",
              " 'portrait': 782,\n",
              " 'posing': 783,\n",
              " 'possessed': 784,\n",
              " 'poverty': 785,\n",
              " 'predicted': 786,\n",
              " 'preliminary': 787,\n",
              " 'presenting': 788,\n",
              " 'prestidigitation': 789,\n",
              " 'pretty': 790,\n",
              " 'previous': 791,\n",
              " 'price': 792,\n",
              " 'pride': 793,\n",
              " 'princely': 794,\n",
              " 'prism': 795,\n",
              " 'problem': 796,\n",
              " 'proclaiming': 797,\n",
              " 'prodigious': 798,\n",
              " 'profusion': 799,\n",
              " 'protest': 800,\n",
              " 'prove': 801,\n",
              " 'public': 802,\n",
              " 'purblind': 803,\n",
              " 'purely': 804,\n",
              " 'pushed': 805,\n",
              " 'put': 806,\n",
              " 'qualities': 807,\n",
              " 'quality': 808,\n",
              " 'queerly': 809,\n",
              " 'question': 810,\n",
              " 'quickly': 811,\n",
              " 'quietly': 812,\n",
              " 'quite': 813,\n",
              " 'quote': 814,\n",
              " 'rain': 815,\n",
              " 'raised': 816,\n",
              " 'random': 817,\n",
              " 'rather': 818,\n",
              " 're': 819,\n",
              " 'real': 820,\n",
              " 'really': 821,\n",
              " 'reared': 822,\n",
              " 'reason': 823,\n",
              " 'reassurance': 824,\n",
              " 'recovering': 825,\n",
              " 'recreated': 826,\n",
              " 'reflected': 827,\n",
              " 'reflection': 828,\n",
              " 'regrets': 829,\n",
              " 'relatively': 830,\n",
              " 'remained': 831,\n",
              " 'remember': 832,\n",
              " 'reminded': 833,\n",
              " 'repeating': 834,\n",
              " 'represented': 835,\n",
              " 'reproduction': 836,\n",
              " 'resented': 837,\n",
              " 'resolve': 838,\n",
              " 'resources': 839,\n",
              " 'rest': 840,\n",
              " 'rich': 841,\n",
              " 'ridiculous': 842,\n",
              " 'robbed': 843,\n",
              " 'romantic': 844,\n",
              " 'room': 845,\n",
              " 'rose': 846,\n",
              " 'rs': 847,\n",
              " 'rule': 848,\n",
              " 'run': 849,\n",
              " 's': 850,\n",
              " 'said': 851,\n",
              " 'same': 852,\n",
              " 'satisfaction': 853,\n",
              " 'savour': 854,\n",
              " 'saw': 855,\n",
              " 'say': 856,\n",
              " 'saying': 857,\n",
              " 'says': 858,\n",
              " 'scorn': 859,\n",
              " 'scornful': 860,\n",
              " 'secret': 861,\n",
              " 'see': 862,\n",
              " 'seemed': 863,\n",
              " 'seen': 864,\n",
              " 'self-confident': 865,\n",
              " 'send': 866,\n",
              " 'sensation': 867,\n",
              " 'sensitive': 868,\n",
              " 'sent': 869,\n",
              " 'serious': 870,\n",
              " 'set': 871,\n",
              " 'sex': 872,\n",
              " 'shade': 873,\n",
              " 'shaking': 874,\n",
              " 'shall': 875,\n",
              " 'she': 876,\n",
              " 'shirked': 877,\n",
              " 'short': 878,\n",
              " 'should': 879,\n",
              " 'shoulder': 880,\n",
              " 'shoulders': 881,\n",
              " 'show': 882,\n",
              " 'showed': 883,\n",
              " 'showy': 884,\n",
              " 'shrug': 885,\n",
              " 'shrugged': 886,\n",
              " 'sight': 887,\n",
              " 'sign': 888,\n",
              " 'silent': 889,\n",
              " 'silver': 890,\n",
              " 'similar': 891,\n",
              " 'simpleton': 892,\n",
              " 'simplifications': 893,\n",
              " 'simply': 894,\n",
              " 'since': 895,\n",
              " 'single': 896,\n",
              " 'sitter': 897,\n",
              " 'sitters': 898,\n",
              " 'sketch': 899,\n",
              " 'skill': 900,\n",
              " 'slight': 901,\n",
              " 'slightly': 902,\n",
              " 'slowly': 903,\n",
              " 'small': 904,\n",
              " 'smile': 905,\n",
              " 'smiling': 906,\n",
              " 'sneer': 907,\n",
              " 'so': 908,\n",
              " 'solace': 909,\n",
              " 'some': 910,\n",
              " 'somebody': 911,\n",
              " 'something': 912,\n",
              " 'spacious': 913,\n",
              " 'spaniel': 914,\n",
              " 'speaking-tubes': 915,\n",
              " 'speculations': 916,\n",
              " 'spite': 917,\n",
              " 'splash': 918,\n",
              " 'square': 919,\n",
              " 'stairs': 920,\n",
              " 'stammer': 921,\n",
              " 'stand': 922,\n",
              " 'standing': 923,\n",
              " 'started': 924,\n",
              " 'stay': 925,\n",
              " 'still': 926,\n",
              " 'stocked': 927,\n",
              " 'stood': 928,\n",
              " 'stopped': 929,\n",
              " 'stopping': 930,\n",
              " 'straddling': 931,\n",
              " 'straight': 932,\n",
              " 'strain': 933,\n",
              " 'straining': 934,\n",
              " 'strange': 935,\n",
              " 'straw': 936,\n",
              " 'stream': 937,\n",
              " 'stroke': 938,\n",
              " 'strokes': 939,\n",
              " 'strolled': 940,\n",
              " 'strongest': 941,\n",
              " 'strongly': 942,\n",
              " 'struck': 943,\n",
              " 'studio': 944,\n",
              " 'stuff': 945,\n",
              " 'subject': 946,\n",
              " 'substantial': 947,\n",
              " 'suburban': 948,\n",
              " 'such': 949,\n",
              " 'suddenly': 950,\n",
              " 'suffered': 951,\n",
              " 'sugar': 952,\n",
              " 'suggested': 953,\n",
              " 'sunburn': 954,\n",
              " 'sunburnt': 955,\n",
              " 'sunlit': 956,\n",
              " 'superb': 957,\n",
              " 'sure': 958,\n",
              " 'surest': 959,\n",
              " 'surface': 960,\n",
              " 'surprise': 961,\n",
              " 'surprised': 962,\n",
              " 'surrounded': 963,\n",
              " 'suspected': 964,\n",
              " 'sweetly': 965,\n",
              " 'sweetness': 966,\n",
              " 'swelling': 967,\n",
              " 'swept': 968,\n",
              " 'swum': 969,\n",
              " 't': 970,\n",
              " 'table': 971,\n",
              " 'take': 972,\n",
              " 'taken': 973,\n",
              " 'talking': 974,\n",
              " 'tea': 975,\n",
              " 'tears': 976,\n",
              " 'technicalities': 977,\n",
              " 'technique': 978,\n",
              " 'tell': 979,\n",
              " 'tells': 980,\n",
              " 'tempting': 981,\n",
              " 'terra-cotta': 982,\n",
              " 'terrace': 983,\n",
              " 'terraces': 984,\n",
              " 'terribly': 985,\n",
              " 'than': 986,\n",
              " 'that': 987,\n",
              " 'the': 988,\n",
              " 'their': 989,\n",
              " 'them': 990,\n",
              " 'then': 991,\n",
              " 'there': 992,\n",
              " 'therefore': 993,\n",
              " 'they': 994,\n",
              " 'thin': 995,\n",
              " 'thing': 996,\n",
              " 'things': 997,\n",
              " 'think': 998,\n",
              " 'this': 999,\n",
              " ...}"
            ]
          },
          "metadata": {},
          "execution_count": 27
        }
      ]
    },
    {
      "cell_type": "markdown",
      "metadata": {
        "id": "SyjtvB7xJa0F"
      },
      "source": [
        "### 4. Complete Tokenizer Implementation\n",
        "\n",
        "Finally, we are going to wrap all these functions in one interface"
      ]
    },
    {
      "cell_type": "code",
      "execution_count": null,
      "metadata": {
        "id": "dermi0wJJa0F"
      },
      "outputs": [],
      "source": [
        "class SimpleTokenizer:\n",
        "    def __init__(self, vocab: Optional[Dict[str, int]] = None):\n",
        "        \"\"\"Initialize tokenizer with a vocabulary or create one.\"\"\"\n",
        "        self.token_to_id = vocab or {}\n",
        "        self.id_to_token = {i: s for s, i in self.token_to_id.items()}\n",
        "\n",
        "        # Add special tokens if they don't exist\n",
        "        self._add_special_tokens([\"<|endoftext|>\", \"<|unk|>\"])\n",
        "\n",
        "    def _add_special_tokens(self, special_tokens):\n",
        "        \"\"\"Add special tokens to the vocabulary.\"\"\"\n",
        "        for token in special_tokens:\n",
        "            if token not in self.token_to_id:\n",
        "                self.token_to_id[token] = len(self.token_to_id)\n",
        "                self.id_to_token[len(self.id_to_token)] = token\n",
        "\n",
        "    def build_vocab_from_text(self, text):\n",
        "        \"\"\"Build vocabulary from text.\"\"\"\n",
        "        tokens = tokenize_text(text)\n",
        "        unique_tokens = sorted(set(tokens))\n",
        "        self.token_to_id = {token: idx for idx, token in enumerate(unique_tokens)}\n",
        "        self._add_special_tokens([\"<|endoftext|>\", \"<|unk|>\"])\n",
        "        self.id_to_token = {i: s for s, i in self.token_to_id.items()}\n",
        "        return len(self.token_to_id)\n",
        "\n",
        "    def encode(self, text):\n",
        "        \"\"\"Encode text to token IDs.\"\"\"\n",
        "        tokens = tokenize_text(text)\n",
        "        tokens = [\n",
        "            token if token in self.token_to_id else \"<|unk|>\"\n",
        "            for token in tokens\n",
        "        ]\n",
        "        return [self.token_to_id[s] for s in tokens]\n",
        "\n",
        "    def decode(self, ids):\n",
        "        \"\"\"Decode token IDs back to text.\"\"\"\n",
        "        text = \" \".join([self.id_to_token[i] for i in ids])\n",
        "        # Clean up spaces before punctuation\n",
        "        text = re.sub(r'\\s+([,.:;?!\"()\\'])', r'\\1', text)\n",
        "        return text\n",
        "\n",
        "    @property\n",
        "    def vocab_size(self):\n",
        "        \"\"\"Get the vocabulary size.\"\"\"\n",
        "        return len(self.token_to_id)"
      ]
    },
    {
      "cell_type": "code",
      "execution_count": null,
      "metadata": {
        "colab": {
          "base_uri": "https://localhost:8080/"
        },
        "id": "rtW5r-9-Ja0F",
        "outputId": "694ff221-d113-432d-ae07-3f72842a0833"
      },
      "outputs": [
        {
          "output_type": "stream",
          "name": "stdout",
          "text": [
            "Vocabulary size: 1132\n",
            "Encoded: [1131, 5, 355, 1126, 628, 975, 10, 1130, 55, 988, 956, 984, 722, 988, 1131, 7]\n",
            "Decoded: <|unk|>, do you like tea? <|endoftext|> In the sunlit terraces of the <|unk|>.\n"
          ]
        }
      ],
      "source": [
        "# Create and test our tokenizer\n",
        "tokenizer = SimpleTokenizer()\n",
        "vocab_size = tokenizer.build_vocab_from_text(raw_text)\n",
        "print(f\"Vocabulary size: {vocab_size}\")\n",
        "\n",
        "# Test encoding and decoding\n",
        "test_text = \"Hello, do you like tea? <|endoftext|> In the sunlit terraces of the palace.\"\n",
        "encoded = tokenizer.encode(test_text)\n",
        "print(f\"Encoded: {encoded}\")\n",
        "decoded = tokenizer.decode(encoded)\n",
        "print(f\"Decoded: {decoded}\")"
      ]
    },
    {
      "cell_type": "markdown",
      "metadata": {
        "id": "x3j6UGUaJa0H"
      },
      "source": [
        "## Byte Pair Encoding (BPE) with External Library\n",
        "\n",
        "JAX doesn't have a built-in BPE tokenizer, but we can use external libraries like `tiktoken`. `tiktoken` is a fast BPE tokeniser for use with OpenAI's models."
      ]
    },
    {
      "cell_type": "code",
      "source": [
        "! pip install tiktoken"
      ],
      "metadata": {
        "colab": {
          "base_uri": "https://localhost:8080/"
        },
        "id": "ZLvE6ivOWgJn",
        "outputId": "5ce8c63d-bfab-4316-8fd7-4ba0f1e415d7"
      },
      "execution_count": null,
      "outputs": [
        {
          "output_type": "stream",
          "name": "stdout",
          "text": [
            "Collecting tiktoken\n",
            "  Downloading tiktoken-0.9.0-cp311-cp311-manylinux_2_17_x86_64.manylinux2014_x86_64.whl.metadata (6.7 kB)\n",
            "Requirement already satisfied: regex>=2022.1.18 in /usr/local/lib/python3.11/dist-packages (from tiktoken) (2024.11.6)\n",
            "Requirement already satisfied: requests>=2.26.0 in /usr/local/lib/python3.11/dist-packages (from tiktoken) (2.32.3)\n",
            "Requirement already satisfied: charset-normalizer<4,>=2 in /usr/local/lib/python3.11/dist-packages (from requests>=2.26.0->tiktoken) (3.4.1)\n",
            "Requirement already satisfied: idna<4,>=2.5 in /usr/local/lib/python3.11/dist-packages (from requests>=2.26.0->tiktoken) (3.10)\n",
            "Requirement already satisfied: urllib3<3,>=1.21.1 in /usr/local/lib/python3.11/dist-packages (from requests>=2.26.0->tiktoken) (2.3.0)\n",
            "Requirement already satisfied: certifi>=2017.4.17 in /usr/local/lib/python3.11/dist-packages (from requests>=2.26.0->tiktoken) (2025.1.31)\n",
            "Downloading tiktoken-0.9.0-cp311-cp311-manylinux_2_17_x86_64.manylinux2014_x86_64.whl (1.2 MB)\n",
            "\u001b[?25l   \u001b[90m━━━━━━━━━━━━━━━━━━━━━━━━━━━━━━━━━━━━━━━━\u001b[0m \u001b[32m0.0/1.2 MB\u001b[0m \u001b[31m?\u001b[0m eta \u001b[36m-:--:--\u001b[0m\r\u001b[2K   \u001b[90m━━━━━━━━━━━━━━━━━━━━━━━━━━━━━━━━━━━━━━━━\u001b[0m \u001b[32m1.2/1.2 MB\u001b[0m \u001b[31m41.8 MB/s\u001b[0m eta \u001b[36m0:00:00\u001b[0m\n",
            "\u001b[?25hInstalling collected packages: tiktoken\n",
            "Successfully installed tiktoken-0.9.0\n"
          ]
        }
      ]
    },
    {
      "cell_type": "markdown",
      "source": [
        "Here, we will see the BPE encoding for a sample text"
      ],
      "metadata": {
        "id": "yiXv-JyD000D"
      }
    },
    {
      "cell_type": "code",
      "execution_count": null,
      "metadata": {
        "colab": {
          "base_uri": "https://localhost:8080/"
        },
        "id": "3F2CjLVGJa0H",
        "outputId": "eea647af-2da4-48e3-c41a-324e0cc32efa"
      },
      "outputs": [
        {
          "output_type": "stream",
          "name": "stdout",
          "text": [
            "BPE encoded: [15496, 11, 466, 345, 588, 8887, 30, 220, 50256, 554, 262, 4252, 18250, 8812, 2114, 286, 617, 34680, 27271, 13]\n",
            "BPE decoded: Hello, do you like tea? <|endoftext|> In the sunlit terraces of someunknownPlace.\n"
          ]
        }
      ],
      "source": [
        "import tiktoken\n",
        "\n",
        "# Get the BPE tokenizer used by GPT models.\"\"\"\n",
        "bpe_tokenizer = tiktoken.get_encoding(\"gpt2\")\n",
        "\n",
        "# Test encoding and decoding\n",
        "bpe_test = \"Hello, do you like tea? <|endoftext|> In the sunlit terraces of someunknownPlace.\"\n",
        "bpe_encoded = bpe_tokenizer.encode(bpe_test, allowed_special={\"<|endoftext|>\"})\n",
        "bpe_decoded = bpe_tokenizer.decode(bpe_encoded)\n",
        "\n",
        "print(f\"BPE encoded: {bpe_encoded}\")\n",
        "print(f\"BPE decoded: {bpe_decoded}\")"
      ]
    },
    {
      "cell_type": "markdown",
      "source": [
        "Let's see how BPE handles unknown words"
      ],
      "metadata": {
        "id": "M1uPMgbMXy2T"
      }
    },
    {
      "cell_type": "code",
      "source": [
        "# Show how BPE handles unknown words\n",
        "unknown_word = \"Akwirw ier\"\n",
        "unknown_encoded = bpe_tokenizer.encode(unknown_word)\n",
        "print(f\"\\nUnknown word: '{unknown_word}'\")\n",
        "print(f\"BPE encoded: {unknown_encoded}\")\n",
        "\n",
        "# Show each token\n",
        "for token_id in unknown_encoded:\n",
        "    print(f\"Token ID {token_id}: '{bpe_tokenizer.decode([token_id])}'\")"
      ],
      "metadata": {
        "id": "2b5Kr2stXuMW",
        "colab": {
          "base_uri": "https://localhost:8080/"
        },
        "outputId": "6b2f8dbf-456a-408e-ecfb-ed4de3d18b84"
      },
      "execution_count": null,
      "outputs": [
        {
          "output_type": "stream",
          "name": "stdout",
          "text": [
            "\n",
            "Unknown word: 'Akwirw ier'\n",
            "BPE encoded: [33901, 86, 343, 86, 220, 959]\n",
            "Token ID 33901: 'Ak'\n",
            "Token ID 86: 'w'\n",
            "Token ID 343: 'ir'\n",
            "Token ID 86: 'w'\n",
            "Token ID 220: ' '\n",
            "Token ID 959: 'ier'\n"
          ]
        }
      ]
    },
    {
      "cell_type": "markdown",
      "metadata": {
        "id": "s6-az2_vJa0F"
      },
      "source": [
        "## Data Sampling with Sliding Window\n",
        "\n"
      ]
    },
    {
      "cell_type": "markdown",
      "source": [
        "In this section, we are going to implement a function that prepares our tokenized text for training a language model. The function generates input-target pairs using a sliding window approach, which is fundamental for training models to predict the next token in a sequence."
      ],
      "metadata": {
        "id": "Lf4822Pm1ME6"
      }
    },
    {
      "cell_type": "code",
      "execution_count": null,
      "metadata": {
        "id": "03LPPcB4Ja0F"
      },
      "outputs": [],
      "source": [
        "def create_input_target_pairs(token_ids, context_size, stride=1):\n",
        "    \"\"\"Create input-target pairs using a sliding window approach.\"\"\"\n",
        "    inputs = []\n",
        "    targets = []\n",
        "\n",
        "    for i in range(0, len(token_ids) - context_size, stride):\n",
        "      input_chunk = token_ids[i:i + context_size]\n",
        "      target_chunk = token_ids[i + 1:i + context_size + 1] #\n",
        "      inputs.append(input_chunk)\n",
        "      targets.append(target_chunk)\n",
        "\n",
        "    return jnp.array(inputs), jnp.array(targets)"
      ]
    },
    {
      "cell_type": "code",
      "execution_count": null,
      "metadata": {
        "colab": {
          "base_uri": "https://localhost:8080/"
        },
        "id": "GupfHoNeJa0F",
        "outputId": "6d8e9967-986e-4f14-d4c8-0c9c1ea555d0"
      },
      "outputs": [
        {
          "output_type": "stream",
          "name": "stdout",
          "text": [
            "Inputs shape: (48, 4)\n",
            "Targets shape: (48, 4)\n",
            "\n",
            "Input 1: I HAD always\n",
            "Target 1:  HAD always thought\n",
            "  Context: 'I' --> Next token: ' H'\n",
            "  Context: 'I H' --> Next token: 'AD'\n",
            "  Context: 'I HAD' --> Next token: ' always'\n",
            "  Context: 'I HAD always' --> Next token: ' thought'\n",
            "\n",
            "Input 2: AD always thought Jack\n",
            "Target 2:  always thought Jack G\n",
            "  Context: 'AD' --> Next token: ' always'\n",
            "  Context: 'AD always' --> Next token: ' thought'\n",
            "  Context: 'AD always thought' --> Next token: ' Jack'\n",
            "  Context: 'AD always thought Jack' --> Next token: ' G'\n",
            "\n",
            "Input 3:  thought Jack Gis\n",
            "Target 3:  Jack Gisburn\n",
            "  Context: ' thought' --> Next token: ' Jack'\n",
            "  Context: ' thought Jack' --> Next token: ' G'\n",
            "  Context: ' thought Jack G' --> Next token: 'is'\n",
            "  Context: ' thought Jack Gis' --> Next token: 'burn'\n"
          ]
        }
      ],
      "source": [
        "# Encode the entire text\n",
        "full_encoded = bpe_tokenizer.encode(raw_text)\n",
        "# Create input-target pairs with a small context size for demonstration\n",
        "context_size = 4\n",
        "inputs, targets = create_input_target_pairs(full_encoded[:100], context_size, stride=2)\n",
        "\n",
        "print(f\"Inputs shape: {inputs.shape}\")\n",
        "print(f\"Targets shape: {targets.shape}\")\n",
        "\n",
        "# Show some examples\n",
        "for i in range(3):  # Just show first 3 examples\n",
        "    input_text = bpe_tokenizer.decode(inputs[i])\n",
        "    target_text = bpe_tokenizer.decode(targets[i])\n",
        "    print(f\"\\nInput {i+1}: {input_text}\")\n",
        "    print(f\"Target {i+1}: {target_text}\")\n",
        "\n",
        "    # Show what the model is actually trying to predict\n",
        "    for j in range(context_size):\n",
        "        if j < len(inputs[i]):\n",
        "            context = bpe_tokenizer.decode(inputs[i][:j+1])\n",
        "            next_token = bpe_tokenizer.decode([targets[i][j]])\n",
        "            print(f\"  Context: '{context}' --> Next token: '{next_token}'\")"
      ]
    },
    {
      "cell_type": "markdown",
      "metadata": {
        "id": "8_dwOjeMJa0F"
      },
      "source": [
        "## Token Embeddings with JAX\n",
        "\n",
        "In this section, we are going to implement a word embedding layer for our language model. Word embeddings transform discrete token IDs into continuous vector spaces, capturing semantic relationships between words and making them suitable for neural network processing.\n",
        "\n",
        "Our function creates a randomly initialized embedding matrix where each row represents a token from our vocabulary. The values are drawn from a normal distribution and scaled by the square root of the embedding dimension to help with training stability."
      ]
    },
    {
      "cell_type": "code",
      "execution_count": null,
      "metadata": {
        "id": "H3IdWrY5Ja0G"
      },
      "outputs": [],
      "source": [
        "def create_embedding_layer(vocab_size, embedding_dim, key):\n",
        "    \"\"\"Create an embedding matrix with JAX.\"\"\"\n",
        "    # Initialize with a normal distribution scaled by the square root of embedding_dim\n",
        "    embedding_matrix = jax.random.normal(key, (vocab_size, embedding_dim)) / jnp.sqrt(embedding_dim)\n",
        "\n",
        "    def embed(token_ids):\n",
        "        \"\"\"Embed token IDs.\"\"\"\n",
        "        return jnp.take(embedding_matrix, token_ids, axis=0)\n",
        "\n",
        "    return embed, embedding_matrix\n",
        "\n",
        "# Initialize embedding layer\n",
        "vocab_size = tokenizer.vocab_size\n",
        "embedding_dim = 256\n",
        "key = jax.random.PRNGKey(0)\n",
        "\n",
        "token_embedding_fn, token_embedding_matrix = create_embedding_layer(\n",
        "    vocab_size, embedding_dim, key\n",
        ")"
      ]
    },
    {
      "cell_type": "code",
      "execution_count": null,
      "metadata": {
        "colab": {
          "base_uri": "https://localhost:8080/"
        },
        "id": "-9dsafFbJa0G",
        "outputId": "4ce39400-b5aa-4023-b4f5-d9fcc4e4b8fe"
      },
      "outputs": [
        {
          "output_type": "stream",
          "name": "stdout",
          "text": [
            "Single token embedding shape: (1, 256)\n",
            "Batch embeddings shape: (2, 4, 256)\n",
            "\n",
            "Sample embedding values for token ID 42:\n",
            "[ 0.110055   -0.08880654  0.01889226 -0.00981834 -0.0037331 ]\n"
          ]
        }
      ],
      "source": [
        "# Test with a single token\n",
        "single_token = jnp.array([42])\n",
        "single_embedding = token_embedding_fn(single_token)\n",
        "print(f\"Single token embedding shape: {single_embedding.shape}\")\n",
        "\n",
        "# Test with a batch of tokens\n",
        "batch_tokens = inputs[:2]  # Take first 2 examples\n",
        "batch_embeddings = token_embedding_fn(batch_tokens)\n",
        "print(f\"Batch embeddings shape: {batch_embeddings.shape}\")\n",
        "\n",
        "# Let's look at a small sample of the actual embedding values\n",
        "print(f\"\\nSample embedding values for token ID 42:\")\n",
        "print(single_embedding[0, :5])  # First 5 dimensions"
      ]
    },
    {
      "cell_type": "markdown",
      "metadata": {
        "id": "s-5RxizxJa0G"
      },
      "source": [
        "## Positional Embeddings\n",
        "\n",
        "In this section, we are going to implement positional embeddings that enable our language model to understand token order in sequences. This function creates a randomly initialized matrix where each row represents position information for tokens in a sequence."
      ]
    },
    {
      "cell_type": "code",
      "execution_count": null,
      "metadata": {
        "id": "VSqwG1BoJa0G"
      },
      "outputs": [],
      "source": [
        "def create_positional_embeddings(max_length, embedding_dim, key):\n",
        "    \"\"\"Create positional embeddings with JAX.\"\"\"\n",
        "    pos_embedding_matrix = jax.random.normal(key, (max_length, embedding_dim)) / jnp.sqrt(embedding_dim)\n",
        "\n",
        "    def get_positional_embeddings(length):\n",
        "        \"\"\"Get positional embeddings for a specific length.\"\"\"\n",
        "        return pos_embedding_matrix[:length]\n",
        "\n",
        "    return get_positional_embeddings, pos_embedding_matrix\n",
        "\n",
        "# Initialize positional embeddings\n",
        "max_length = 1024  # Maximum sequence length\n",
        "pos_key = jax.random.PRNGKey(1)\n",
        "pos_embedding_fn, pos_embedding_matrix = create_positional_embeddings(\n",
        "    max_length, embedding_dim, pos_key\n",
        ")"
      ]
    },
    {
      "cell_type": "code",
      "execution_count": null,
      "metadata": {
        "colab": {
          "base_uri": "https://localhost:8080/"
        },
        "id": "3XQrygMUJa0G",
        "outputId": "a184c12b-32ba-40e4-c3ed-416b11775a5d"
      },
      "outputs": [
        {
          "output_type": "stream",
          "name": "stdout",
          "text": [
            "Positional embeddings shape: (4, 256)\n",
            "Input with positional embeddings shape: (4, 256)\n",
            "\n",
            "First 5 values for token 0 without positional embedding:\n",
            "[ 0.01715419  0.07272937 -0.13880892 -0.01006357 -0.03753179]\n",
            "\n",
            "First 5 values for position 0:\n",
            "[-0.00965232  0.0052942  -0.00849878 -0.00968977  0.07916671]\n",
            "\n",
            "First 5 values for token 0 with positional embedding:\n",
            "[ 0.00750187  0.07802358 -0.1473077  -0.01975334  0.04163492]\n"
          ]
        }
      ],
      "source": [
        "# Get positional embeddings for our context size\n",
        "pos_embeddings = pos_embedding_fn(context_size)\n",
        "print(f\"Positional embeddings shape: {pos_embeddings.shape}\")\n",
        "\n",
        "# Add positional embeddings to token embeddings for the first batch example\n",
        "input_with_pos = batch_embeddings[0] + pos_embeddings\n",
        "print(f\"Input with positional embeddings shape: {input_with_pos.shape}\")\n",
        "\n",
        "# Let's see how the positional embeddings affect the actual values\n",
        "print(f\"\\nFirst 5 values for token 0 without positional embedding:\")\n",
        "print(batch_embeddings[0, 0, :5])\n",
        "print(f\"\\nFirst 5 values for position 0:\")\n",
        "print(pos_embeddings[0, :5])\n",
        "print(f\"\\nFirst 5 values for token 0 with positional embedding:\")\n",
        "print(input_with_pos[0, :5])"
      ]
    },
    {
      "cell_type": "markdown",
      "metadata": {
        "id": "47RRn5LkJa0H"
      },
      "source": [
        "## Complete Pipeline: From Text to Model Input\n",
        "\n",
        "Let's put it all together to demonstrate the complete pipeline:"
      ]
    },
    {
      "cell_type": "code",
      "execution_count": null,
      "metadata": {
        "id": "NEr-LJT6Ja0H"
      },
      "outputs": [],
      "source": [
        "def text_to_model_input(text, tokenizer, token_embed_fn, pos_embed_fn, context_size):\n",
        "    \"\"\"Convert text to model input with embeddings.\"\"\"\n",
        "    # Tokenize and encode\n",
        "    token_ids = tokenizer.encode(text)\n",
        "\n",
        "    # Truncate if necessary\n",
        "    if len(token_ids) > context_size:\n",
        "        token_ids = token_ids[:context_size]\n",
        "\n",
        "    # Pad if necessary\n",
        "    if len(token_ids) < context_size:\n",
        "        token_ids = token_ids + [tokenizer.token_to_id[\"<|endoftext|>\"]] * (context_size - len(token_ids))\n",
        "\n",
        "    # Convert to JAX array\n",
        "    token_ids_array = jnp.array(token_ids)\n",
        "\n",
        "    # Get token embeddings\n",
        "    token_embeddings = token_embed_fn(token_ids_array)\n",
        "\n",
        "    # Get positional embeddings\n",
        "    pos_embeddings = pos_embed_fn(context_size)\n",
        "\n",
        "    # Combine embeddings\n",
        "    input_embeddings = token_embeddings + pos_embeddings\n",
        "\n",
        "    return input_embeddings, token_ids"
      ]
    },
    {
      "cell_type": "code",
      "execution_count": null,
      "metadata": {
        "colab": {
          "base_uri": "https://localhost:8080/"
        },
        "id": "c2yCPf0ZJa0H",
        "outputId": "6cf70f5b-4e3c-4a71-9101-1045ef8e0a76"
      },
      "outputs": [
        {
          "output_type": "stream",
          "name": "stdout",
          "text": [
            "Input text: The quick brown fox jumps over the lazy dog.\n",
            "Token IDs: [93, 1131, 235, 1131, 1131, 741, 988, 1131]\n",
            "Model input shape: (8, 256)\n",
            "\n",
            "Positional breakdown:\n",
            "Position 0: 'The' + Positional Embedding 0\n",
            "Position 1: '<|unk|>' + Positional Embedding 1\n",
            "Position 2: 'brown' + Positional Embedding 2\n",
            "Position 3: '<|unk|>' + Positional Embedding 3\n",
            "Position 4: '<|unk|>' + Positional Embedding 4\n",
            "Position 5: 'over' + Positional Embedding 5\n",
            "Position 6: 'the' + Positional Embedding 6\n",
            "Position 7: '<|unk|>' + Positional Embedding 7\n"
          ]
        }
      ],
      "source": [
        "# Test with a new text\n",
        "test_input = \"The quick brown fox jumps over the lazy dog.\"\n",
        "model_input, token_ids = text_to_model_input(\n",
        "    test_input, tokenizer, token_embedding_fn, pos_embedding_fn, context_size=8\n",
        ")\n",
        "\n",
        "print(f\"Input text: {test_input}\")\n",
        "print(f\"Token IDs: {token_ids}\")\n",
        "print(f\"Model input shape: {model_input.shape}\")\n",
        "\n",
        "# Show what each position in the input represents\n",
        "tokens = [tokenizer.id_to_token[int(id)] for id in token_ids]\n",
        "print(\"\\nPositional breakdown:\")\n",
        "for i, token in enumerate(tokens):\n",
        "    print(f\"Position {i}: '{token}' + Positional Embedding {i}\")"
      ]
    },
    {
      "cell_type": "markdown",
      "metadata": {
        "id": "6NC7thzZJa0H"
      },
      "source": [
        "## Visualizing Token Embeddings\n",
        "Let's try to visualize the token embeddings to get a sense of how similar tokens might cluster together:"
      ]
    },
    {
      "cell_type": "code",
      "execution_count": null,
      "metadata": {
        "colab": {
          "base_uri": "https://localhost:8080/",
          "height": 693
        },
        "id": "F0W1Oul9Ja0I",
        "outputId": "197162c6-da58-4074-f6ac-07003d24ede5"
      },
      "outputs": [
        {
          "output_type": "display_data",
          "data": {
            "text/plain": [
              "<Figure size 1000x800 with 1 Axes>"
            ],
            "image/png": "[encoded data removed]"
          },
          "metadata": {}
        }
      ],
      "source": [
        "import matplotlib.pyplot as plt\n",
        "from sklearn.decomposition import PCA\n",
        "\n",
        "# Select a subset of common tokens\n",
        "common_tokens = [\n",
        "    \"the\", \"a\", \"is\", \"in\", \"and\", \"he\", \"she\", \"it\", \"but\", \"or\",\n",
        "    \"man\", \"woman\", \"boy\", \"girl\", \"person\",\n",
        "    \"I\", \"you\", \"we\", \"they\", \"my\", \"your\", \"his\", \"her\",\n",
        "    \".\", \",\", \"!\", \"?\"\n",
        "]\n",
        "\n",
        "# Filter to tokens that exist in our vocabulary\n",
        "available_tokens = [t for t in common_tokens if t in tokenizer.token_to_id]\n",
        "\n",
        "if len(available_tokens) > 5:  # Make sure we have enough tokens\n",
        "    # Get token IDs\n",
        "    token_ids = [tokenizer.token_to_id[t] for t in available_tokens]\n",
        "\n",
        "    # Get the embeddings\n",
        "    token_embeds = token_embedding_fn(jnp.array(token_ids))\n",
        "\n",
        "    # Convert to numpy for sklearn\n",
        "    embeds_np = np.array(token_embeds)\n",
        "\n",
        "    # Reduce to 2 dimensions for visualization\n",
        "    pca = PCA(n_components=2)\n",
        "    embeds_2d = pca.fit_transform(embeds_np)\n",
        "\n",
        "    # Plot\n",
        "    plt.figure(figsize=(10, 8))\n",
        "    plt.scatter(embeds_2d[:, 0], embeds_2d[:, 1], alpha=0.7)\n",
        "\n",
        "    # Add labels\n",
        "    for i, token in enumerate(available_tokens):\n",
        "        plt.annotate(token, (embeds_2d[i, 0], embeds_2d[i, 1]), fontsize=9)\n",
        "\n",
        "    plt.title(\"2D PCA Projection of Token Embeddings\")\n",
        "    plt.xlabel(f\"Principal Component 1 (Variance: {pca.explained_variance_ratio_[0]:.2f})\")\n",
        "    plt.ylabel(f\"Principal Component 2 (Variance: {pca.explained_variance_ratio_[1]:.2f})\")\n",
        "    plt.grid(alpha=0.3)\n",
        "    plt.show()\n",
        "else:\n",
        "    print(\"Not enough common tokens found in the vocabulary for visualization\")\n",
        "\n"
      ]
    },
    {
      "cell_type": "markdown",
      "metadata": {
        "id": "RIkHyIa8Ja0I"
      },
      "source": [
        "## Conclusion\n",
        "\n",
        "In this notebook, we've:\n",
        "\n",
        "1. Implemented a simple tokenizer from scratch\n",
        "2. Built a vocabulary from text\n",
        "3. Converted tokens to IDs and back\n",
        "4. Created a sliding window data sampling approach\n",
        "5. Implemented token and positional embeddings using JAX\n",
        "6. Demonstrated the complete pipeline from text to model inputs\n",
        "7. Introduced BPE tokenization\n",
        "\n",
        "This tokenization process is the essential first step in preparing text data for training and using large language models. The token and positional embeddings we've created would then be fed into the transformer architecture that makes up the core of modern LLMs."
      ]
    },
    {
      "cell_type": "markdown",
      "source": [
        "# Exercise\n",
        "Implement UTF-8 Byte Level tokenizer using the same interface, you can use the following code as a starting code."
      ],
      "metadata": {
        "id": "HgPFrRIYS2F-"
      }
    },
    {
      "cell_type": "code",
      "source": [
        "txt = \"Ståle\"\n",
        "\n",
        "token_to_id = {idx : list(idx.encode(encoding = \"UTF-8\"))[0] for idx in txt}\n",
        "token_to_id"
      ],
      "metadata": {
        "colab": {
          "base_uri": "https://localhost:8080/"
        },
        "id": "s9SyMOLfuM3B",
        "outputId": "fea8f8a4-ce2b-4943-b488-3c423a516217"
      },
      "execution_count": null,
      "outputs": [
        {
          "output_type": "execute_result",
          "data": {
            "text/plain": [
              "{'S': 83, 't': 116, 'å': 195, 'l': 108, 'e': 101}"
            ]
          },
          "metadata": {},
          "execution_count": 56
        }
      ]
    },
    {
      "cell_type": "code",
      "source": [
        "txt.encode(encoding = \"UTF-8\")"
      ],
      "metadata": {
        "colab": {
          "base_uri": "https://localhost:8080/"
        },
        "id": "h3LcUf8Ghm7A",
        "outputId": "17d81b70-dd06-4b21-8d01-330765cc7970"
      },
      "execution_count": null,
      "outputs": [
        {
          "output_type": "execute_result",
          "data": {
            "text/plain": [
              "b'St\\xc3\\xa5le'"
            ]
          },
          "metadata": {},
          "execution_count": 57
        }
      ]
    },
    {
      "cell_type": "code",
      "source": [
        "[f.encode() for f in list(txt)]"
      ],
      "metadata": {
        "colab": {
          "base_uri": "https://localhost:8080/"
        },
        "id": "677FstHQh5G7",
        "outputId": "97eba8fd-5149-407a-ec54-02e8a5c1e67c"
      },
      "execution_count": null,
      "outputs": [
        {
          "output_type": "execute_result",
          "data": {
            "text/plain": [
              "[b'S', b't', b'\\xc3\\xa5', b'l', b'e']"
            ]
          },
          "metadata": {},
          "execution_count": 62
        }
      ]
    },
    {
      "cell_type": "code",
      "source": [
        "class ByteLevelTokenizer:\n",
        "    def __init__(self):\n",
        "        \"\"\"Initialize the tokenizer.\"\"\"\n",
        "        self.token_to_id = {}\n",
        "        self.id_to_token = {}\n",
        "\n",
        "    def add_token_to_vocab(self, token):\n",
        "      \"\"\"Adds a token to the vocabulary if it's not already there.\"\"\"\n",
        "      for t in token:\n",
        "        if t not in self.token_to_id:\n",
        "            self.token_to_id[t] = list(t.encode(encoding = \"UTF-8\"))[0]\n",
        "            self.id_to_token[list(t.encode(encoding = \"UTF-8\"))[0]] = t\n",
        "\n",
        "\n",
        "    def build_vocab(self, text):\n",
        "      \"\"\"Builds the vocabulary from the provided text.\"\"\"\n",
        "      self.token_to_id = {idx : list(idx.encode(encoding = \"UTF-8\"))[0] for idx in text}\n",
        "      self.id_to_token = {list(idx.encode(encoding = \"UTF-8\"))[0] : idx  for idx in text}\n",
        "      print(self.id_to_token)\n",
        "      return len(self.token_to_id)\n",
        "\n",
        "\n",
        "\n",
        "    def encode(self, text):\n",
        "        \"\"\"Encodes text into a sequence of byte-level token IDs.\"\"\"\n",
        "\n",
        "        tokens = list(text)\n",
        "        for token in tokens:\n",
        "          if token not in self.token_to_id:\n",
        "              self.add_token_to_vocab([token])\n",
        "\n",
        "        return [self.token_to_id[s] for s in tokens]\n",
        "\n",
        "    def decode(self, token_ids):\n",
        "        \"\"\"Decodes a sequence of byte-level token IDs back into text.\"\"\"\n",
        "        text = \" \".join([self.id_to_token[i] for i in token_ids])\n",
        "        # Clean up spaces before punctuation\n",
        "        text = re.sub(r'\\s+([,.:;?!\"()\\'])', r'\\1', text)\n",
        "        return text\n",
        "\n",
        "# Example usage with build_vocab:\n",
        "tokenizer = ByteLevelTokenizer()\n",
        "training_text = \"This is the text used to build the vocabulary.\"\n",
        "tokenizer.build_vocab(training_text)\n",
        "\n",
        "# Now you can encode and decode using the pre-built vocabulary\n",
        "text = \"This is a new sentence.\"\n",
        "encoded = tokenizer.encode(text)\n",
        "decoded = tokenizer.decode(encoded)\n",
        "\n",
        "print(f\"Original text: {text}\")\n",
        "print(f\"Encoded: {encoded}\")\n",
        "print(f\"Decoded: {decoded}\")"
      ],
      "metadata": {
        "id": "eJmt772iS1Or",
        "colab": {
          "base_uri": "https://localhost:8080/"
        },
        "outputId": "a2b3616c-2d6e-45fc-8bd9-4dcab1167ad8"
      },
      "execution_count": null,
      "outputs": [
        {
          "output_type": "stream",
          "name": "stdout",
          "text": [
            "{84: 'T', 104: 'h', 105: 'i', 115: 's', 32: ' ', 116: 't', 101: 'e', 120: 'x', 117: 'u', 100: 'd', 111: 'o', 98: 'b', 108: 'l', 118: 'v', 99: 'c', 97: 'a', 114: 'r', 121: 'y', 46: '.'}\n",
            "Original text: This is a new sentence.\n",
            "Encoded: [84, 104, 105, 115, 32, 105, 115, 32, 97, 32, 110, 101, 119, 32, 115, 101, 110, 116, 101, 110, 99, 101, 46]\n",
            "Decoded: T h i s   i s   a   n e w   s e n t e n c e.\n"
          ]
        }
      ]
    },
    {
      "cell_type": "code",
      "source": [],
      "metadata": {
        "id": "xnQd_ukAY5rP"
      },
      "execution_count": null,
      "outputs": []
    }
  ],
  "metadata": {
    "kernelspec": {
      "display_name": "Python 3",
      "language": "python",
      "name": "python3"
    },
    "language_info": {
      "codemirror_mode": {
        "name": "ipython",
        "version": 3
      },
      "file_extension": ".py",
      "mimetype": "text/x-python",
      "name": "python",
      "nbconvert_exporter": "python",
      "pygments_lexer": "ipython3",
      "version": "3.8.10"
    },
    "colab": {
      "provenance": [],
      "include_colab_link": true
    }
  },
  "nbformat": 4,
  "nbformat_minor": 0
}